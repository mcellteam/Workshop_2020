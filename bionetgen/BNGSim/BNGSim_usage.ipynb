{
 "cells": [
  {
   "cell_type": "code",
   "execution_count": null,
   "metadata": {},
   "outputs": [],
   "source": [
    "# you can install the library using the following code\n",
    "import sys\n",
    "!{sys.executable} -m pip install git+https://github.com/ASinanSaglam/BNGSim"
   ]
  },
  {
   "cell_type": "code",
   "execution_count": 16,
   "metadata": {},
   "outputs": [],
   "source": [
    "# Import our library\n",
    "import BNGSim"
   ]
  },
  {
   "cell_type": "code",
   "execution_count": 17,
   "metadata": {},
   "outputs": [
    {
     "data": {
      "text/plain": [
       "('cbngl_simple.bngl', <http.client.HTTPMessage at 0x15879995d48>)"
      ]
     },
     "execution_count": 17,
     "metadata": {},
     "output_type": "execute_result"
    }
   ],
   "source": [
    "# let's download a bngl file\n",
    "import urllib.request\n",
    "bngl_file = \"cbngl_simple.bngl\"\n",
    "urllib.request.urlretrieve(\"https://raw.githubusercontent.com/RuleWorld/BNGTutorial/master/CBNGL/cBNGL_simple.bngl\", bngl_file)"
   ]
  },
  {
   "cell_type": "code",
   "execution_count": 18,
   "metadata": {},
   "outputs": [],
   "source": [
    "import os\n",
    "# the path to BNG installation where BNG2.pl is\n",
    "bng_path = r'D:\\rb_test\\RuleBender-2.3.2-win\\RuleBender\\BioNetGen'\n",
    "# we need the environment variable BNGPATH to be set to the installation folder\n",
    "os.environ[\"BNGPATH\"] = bng_path"
   ]
  },
  {
   "cell_type": "markdown",
   "metadata": {},
   "source": [
    "# Simulator API\n",
    "\n",
    "A very simple API for running simulations. It's very basic currently, needs more features, direct integration with the simulators and libRoadRunner integration. Some nice options it does have are being able to merge multiple simulation results into a single array and being able to save all the results into a HDF5 file. "
   ]
  },
  {
   "cell_type": "code",
   "execution_count": null,
   "metadata": {},
   "outputs": [],
   "source": [
    "sim = BNGSim.BNGSimulator(bngl_file) "
   ]
  },
  {
   "cell_type": "code",
   "execution_count": null,
   "metadata": {},
   "outputs": [],
   "source": [
    "# sim.run() will run the model as is, it will expect an \n",
    "# action block for it to do anything since by default the model\n",
    "# is cleared of actions when loaded. \n",
    "\n",
    "# This is a convenience function that adds generate_network \n",
    "# and a simulate command \n",
    "# sim.simulate(start, end, nsteps, method='ode', nsims=1)\n",
    "sim.simulate(0,100,100,method=\"ssa\",nsims=3)"
   ]
  },
  {
   "cell_type": "code",
   "execution_count": null,
   "metadata": {},
   "outputs": [],
   "source": [
    "# results are normally saved separately in sim.results in results objects\n",
    "# that contains cdat/gdat (in the future will contain more)\n",
    "print(sim.results)\n",
    "print(sim.results[0].gdat[5:10])\n",
    "# the gdat results can be combined in a single array\n",
    "sim.combine_results()\n",
    "# now the results will be stored in sim.combined_results\n",
    "print(sim.combined_results.shape)"
   ]
  },
  {
   "cell_type": "code",
   "execution_count": null,
   "metadata": {},
   "outputs": [],
   "source": [
    "# the results can be saved in a hdf5 file \n",
    "# via save_results method\n",
    "sim.save_results(\"test.h5\")\n",
    "l = os.listdir(os.getcwd())\n",
    "# let's see if it worked\n",
    "print(list(filter(lambda x: x.endswith(\".h5\"), l)))"
   ]
  },
  {
   "cell_type": "code",
   "execution_count": null,
   "metadata": {},
   "outputs": [],
   "source": [
    "# just as an example, let's plot our trajectories\n",
    "import matplotlib.pyplot as plt\n",
    "import numpy as np"
   ]
  },
  {
   "cell_type": "code",
   "execution_count": null,
   "metadata": {},
   "outputs": [],
   "source": [
    "# this is a record array, it contains all the observable species\n",
    "cr = sim.combined_results\n",
    "cr[0].dtype"
   ]
  },
  {
   "cell_type": "code",
   "execution_count": null,
   "metadata": {},
   "outputs": [],
   "source": [
    "# calculate the confidence interval\n",
    "means = np.average(cr['Tot_P'], axis=0)\n",
    "stds  = np.std(cr['Tot_P'], axis=0)\n",
    "stde  = stds/np.sqrt(cr.shape[0])\n",
    "ci_size = stde*1.96\n",
    "lb = means - ci_size\n",
    "ub = means + ci_size\n",
    "# plot the results\n",
    "plt.plot(cr[0]['time'], cr[0]['Tot_P'], label=\"0\", c='r')\n",
    "plt.plot(cr[1]['time'], cr[1]['Tot_P'], label=\"1\", c='g')\n",
    "plt.plot(cr[2]['time'], cr[2]['Tot_P'], label=\"2\", c='b')\n",
    "plt.fill_between(cr[0]['time'], lb, ub, color='k', alpha=0.5)\n",
    "plt.xlabel(\"time\")\n",
    "plt.ylabel(\"tot P\")\n",
    "plt.legend(frameon=False)"
   ]
  },
  {
   "cell_type": "markdown",
   "metadata": {},
   "source": [
    "### Simple parameter scan"
   ]
  },
  {
   "cell_type": "code",
   "execution_count": 19,
   "metadata": {},
   "outputs": [
    {
     "name": "stdout",
     "output_type": "stream",
     "text": [
      "BNG2.pl seems to be working\n",
      "BNG2.pl seems to be working\n",
      "Attempting to generate XML\n",
      "Parsing XML\n",
      "XML parsed\n"
     ]
    }
   ],
   "source": [
    "bngl_file = \"LV.bngl\"\n",
    "urllib.request.urlretrieve(\"https://raw.githubusercontent.com/RuleWorld/BNGTutorial/master/ABC/LV.bngl\", bngl_file)\n",
    "sim = BNGSim.BNGSimulator(bngl_file)"
   ]
  },
  {
   "cell_type": "code",
   "execution_count": 27,
   "metadata": {},
   "outputs": [
    {
     "name": "stdout",
     "output_type": "stream",
     "text": [
      "begin model\n",
      "\n",
      "begin parameters\n",
      "  Nav 602000000.0\n",
      "  V (0.5*0.5)*0.01\n",
      "  k1 1000000.0\n",
      "  k2 100000000.0\n",
      "  k3 130000.0\n",
      "  _rateLaw1 k2/(Nav*V)\n",
      "end parameters\n",
      "\n",
      "begin molecule types\n",
      "  S\n",
      "  W\n",
      "end molecule types\n",
      "\n",
      "begin species\n",
      "  S 1000\n",
      "  W 500\n",
      "end species\n",
      "\n",
      "begin observables\n",
      "  Molecules Stot S\n",
      "  Molecules Wtot W\n",
      "end observables\n",
      "\n",
      "begin reaction rules\n",
      "_R1: S -> S + S k1\n",
      "_R2: S + W -> W + W _rateLaw1\n",
      "_R3: W -> 0 k3\n",
      "end reaction rules\n",
      "\n",
      "end model\n",
      "generate_network({overwrite=>1})\n",
      "simulate({method=>\"ode\",t_start=>0,t_end=>0.0001,n_steps=>100})\n"
     ]
    }
   ],
   "source": [
    "print(sim.model)"
   ]
  },
  {
   "cell_type": "code",
   "execution_count": 21,
   "metadata": {},
   "outputs": [
    {
     "name": "stdout",
     "output_type": "stream",
     "text": [
      "\n",
      "begin observables\n",
      "  Molecules Stot S\n",
      "  Molecules Wtot W\n",
      "end observables\n",
      "\n"
     ]
    }
   ],
   "source": [
    "print(sim.model.observables)"
   ]
  },
  {
   "cell_type": "code",
   "execution_count": 23,
   "metadata": {},
   "outputs": [
    {
     "name": "stdout",
     "output_type": "stream",
     "text": [
      "BNG2.pl seems to be working\n",
      "['LV.bngl', 'LV.cdat', 'LV.gdat', 'LV.net']\n",
      "Simulation succesful, loading results\n",
      "Searching for existing files\n",
      "Finding and loading .gdat file\n",
      "Finding and loading .cdat file\n",
      "Finding and loading .net file\n",
      "Loaded results files\n"
     ]
    },
    {
     "data": {
      "text/plain": [
       "<matplotlib.legend.Legend at 0x15879a91288>"
      ]
     },
     "execution_count": 23,
     "metadata": {},
     "output_type": "execute_result"
    },
    {
     "data": {
      "image/png": "[encoded data removed]",
      "text/plain": [
       "<Figure size 432x288 with 1 Axes>"
      ]
     },
     "metadata": {
      "needs_background": "light"
     },
     "output_type": "display_data"
    }
   ],
   "source": [
    "import seaborn\n",
    "import matplotlib.pyplot as plt \n",
    "\n",
    "sim.simulate(0,0.0001,1000)\n",
    "res = sim.results[-1].gdat\n",
    "x,y1,y2 = res['time'], res['Stot'], res['Wtot']\n",
    "sbrn.lineplot(x,y1,label=\"sheep\")\n",
    "sbrn.lineplot(x,y2,label=\"wolf\")\n",
    "plt.legend(frameon=False)"
   ]
  },
  {
   "cell_type": "code",
   "execution_count": 20,
   "metadata": {},
   "outputs": [
    {
     "name": "stdout",
     "output_type": "stream",
     "text": [
      "\n",
      "begin parameters\n",
      "  Nav 602000000.0\n",
      "  V (0.5*0.5)*0.01\n",
      "  k1 129000.0\n",
      "  k2 100000000.0\n",
      "  k3 130000.0\n",
      "  _rateLaw1 k2/(Nav*V)\n",
      "end parameters\n",
      "\n"
     ]
    }
   ],
   "source": [
    "print(sim.model.parameters)"
   ]
  },
  {
   "cell_type": "code",
   "execution_count": 26,
   "metadata": {},
   "outputs": [
    {
     "name": "stdout",
     "output_type": "stream",
     "text": [
      "BNG2.pl seems to be working\n",
      "['LV.bngl', 'LV.cdat', 'LV.gdat', 'LV.net']\n",
      "Simulation succesful, loading results\n",
      "Searching for existing files\n",
      "Finding and loading .gdat file\n",
      "Finding and loading .cdat file\n",
      "Finding and loading .net file\n",
      "Loaded results files\n",
      "BNG2.pl seems to be working\n",
      "['LV.bngl', 'LV.cdat', 'LV.gdat', 'LV.net']\n",
      "Simulation succesful, loading results\n",
      "Searching for existing files\n",
      "Finding and loading .gdat file\n",
      "Finding and loading .cdat file\n",
      "Finding and loading .net file\n",
      "Loaded results files\n",
      "BNG2.pl seems to be working\n",
      "['LV.bngl', 'LV.cdat', 'LV.gdat', 'LV.net']\n",
      "Simulation succesful, loading results\n",
      "Searching for existing files\n",
      "Finding and loading .gdat file\n",
      "Finding and loading .cdat file\n",
      "Finding and loading .net file\n",
      "Loaded results files\n"
     ]
    },
    {
     "data": {
      "text/plain": [
       "<matplotlib.legend.Legend at 0x1587997ba08>"
      ]
     },
     "execution_count": 26,
     "metadata": {},
     "output_type": "execute_result"
    },
    {
     "data": {
      "image/png": "[encoded data removed]",
      "text/plain": [
       "<Figure size 432x288 with 1 Axes>"
      ]
     },
     "metadata": {
      "needs_background": "light"
     },
     "output_type": "display_data"
    }
   ],
   "source": [
    "import numpy as np\n",
    "\n",
    "param_name = \"k1\"\n",
    "param_scan = np.linspace(1e5, 1e6, 3)\n",
    "for iparam, param in enumerate(param_scan):\n",
    "    sim.model.parameters[param_name] = param\n",
    "    sim.simulate(0, 0.0001, 100)\n",
    "    res = sim.results[-1].gdat\n",
    "    x,y1 = res['time'], res['Stot']\n",
    "    sbrn.lineplot(x,y1,label=\"{}={}\".format(param_name,param))\n",
    "plt.legend(frameon=False)"
   ]
  },
  {
   "cell_type": "markdown",
   "metadata": {},
   "source": [
    "# Model API\n",
    "\n",
    "A pythonic API to BNGL models. Goal is to be as simple, intuitive and pythonic as possible. "
   ]
  },
  {
   "cell_type": "code",
   "execution_count": null,
   "metadata": {},
   "outputs": [],
   "source": [
    "model = BNGSim.BNGModel(bngl_file)"
   ]
  },
  {
   "cell_type": "code",
   "execution_count": null,
   "metadata": {},
   "outputs": [],
   "source": [
    "# One key feature is that pretty much everything can be printed \n",
    "# to see the BNGL code it corresponds to\n",
    "print(model)"
   ]
  },
  {
   "cell_type": "code",
   "execution_count": null,
   "metadata": {},
   "outputs": [],
   "source": [
    "# you can view \"active\" blocks, the ones that are being used in \n",
    "# this particular BNGL file\n",
    "print(model.active_blocks)"
   ]
  },
  {
   "cell_type": "markdown",
   "metadata": {},
   "source": [
    "### Parameter block"
   ]
  },
  {
   "cell_type": "code",
   "execution_count": null,
   "metadata": {},
   "outputs": [],
   "source": [
    "# You can print any block BNGL\n",
    "print(model.parameters)"
   ]
  },
  {
   "cell_type": "code",
   "execution_count": null,
   "metadata": {},
   "outputs": [],
   "source": [
    "# we can loop over each parameter and access its values\n",
    "for param in model.parameters:\n",
    "    print(param, model.parameters[param])"
   ]
  },
  {
   "cell_type": "code",
   "execution_count": null,
   "metadata": {},
   "outputs": [],
   "source": [
    "# we can set each parameter, the block is indexable by the parameter string\n",
    "model.parameters['kp_R_TF'] = 100\n",
    "print(model.parameters)"
   ]
  },
  {
   "cell_type": "code",
   "execution_count": null,
   "metadata": {},
   "outputs": [],
   "source": [
    "# the parameters are also settable attributes\n",
    "model.parameters.kp_R_TF = 50\n",
    "print(model.parameters)"
   ]
  },
  {
   "cell_type": "code",
   "execution_count": null,
   "metadata": {},
   "outputs": [],
   "source": [
    "# indexing the block with an integer gives back the \n",
    "# parameter name\n",
    "print(model.parameters[2])"
   ]
  },
  {
   "cell_type": "code",
   "execution_count": null,
   "metadata": {},
   "outputs": [],
   "source": [
    "# With the latest version of BNG the parameter block will \n",
    "# store both the value and the expression of each parameter\n",
    "print(model.parameters.expressions)\n",
    "# this will be empty right now, version of BNG that has this is not released\n",
    "# yet. However you can clone the branch and copy Perl2 folder into your \n",
    "# own BioNetGen installations Perl2 folder if you wanted and this will \n",
    "# start working. \n",
    "\n",
    "# you can set the parameter to an expression\n",
    "model.parameters.k_R_endo = \"k_R_phos*10\"\n",
    "print(model.parameters)"
   ]
  },
  {
   "cell_type": "markdown",
   "metadata": {},
   "source": [
    "### Compartment block"
   ]
  },
  {
   "cell_type": "code",
   "execution_count": null,
   "metadata": {},
   "outputs": [],
   "source": [
    "print(model.compartments)"
   ]
  },
  {
   "cell_type": "code",
   "execution_count": null,
   "metadata": {},
   "outputs": [],
   "source": [
    "for comp in model.compartments:\n",
    "    print(comp, model.compartments[comp])"
   ]
  },
  {
   "cell_type": "code",
   "execution_count": null,
   "metadata": {},
   "outputs": [],
   "source": [
    "# indexing with an integer gives you the name \n",
    "# of the corresponding compartment\n",
    "print(model.compartments[2])"
   ]
  },
  {
   "cell_type": "markdown",
   "metadata": {},
   "source": [
    "### Molecule type block"
   ]
  },
  {
   "cell_type": "code",
   "execution_count": null,
   "metadata": {},
   "outputs": [],
   "source": [
    "# as per norm you can loop over each\n",
    "for mtype in model.moltypes:\n",
    "    print(mtype)"
   ]
  },
  {
   "cell_type": "code",
   "execution_count": null,
   "metadata": {},
   "outputs": [],
   "source": [
    "# you can index the molecule types by an integer and \n",
    "# each mtype object contains the molecule it represents\n",
    "molec = model.moltypes[3].molecule\n",
    "print(molec)"
   ]
  },
  {
   "cell_type": "code",
   "execution_count": null,
   "metadata": {},
   "outputs": [],
   "source": [
    "# a molecule can be modified, this will be the same\n",
    "# for every molecule in every block\n",
    "\n",
    "# here is an example for adding components.\n",
    "molec.add_component(\"test\", states=[\"a\",\"b\"])\n",
    "print(molec)\n",
    "\n",
    "# note that \"states\" keyword is reserved for molecule type\n",
    "# block. For other molecules you should use \"state\" to represent the current\n",
    "# state of a component\n",
    "print(model.moltypes)"
   ]
  },
  {
   "cell_type": "markdown",
   "metadata": {},
   "source": [
    "### Seed species block"
   ]
  },
  {
   "cell_type": "code",
   "execution_count": null,
   "metadata": {},
   "outputs": [],
   "source": [
    "# each species is a pattern, value pair. a pattern is a list of molecules\n",
    "# each species in the following loop is an object that contains both\n",
    "\n",
    "# standard loop, you can use the species to index and get the values\n",
    "for spec in model.species:\n",
    "    print(spec, model.species[spec])"
   ]
  },
  {
   "cell_type": "code",
   "execution_count": null,
   "metadata": {},
   "outputs": [],
   "source": [
    "# indexing with an integer gets you the \n",
    "# species object\n",
    "spec = model.species[2]\n",
    "print(spec)"
   ]
  },
  {
   "cell_type": "code",
   "execution_count": null,
   "metadata": {},
   "outputs": [],
   "source": [
    "# indexing with the species object or a string \n",
    "# (that corresponds to the species) gets you the species value\n",
    "print(model.species[spec])\n",
    "# you can modify the seed species value\n",
    "model.species[spec] = 100\n",
    "print(model.species)"
   ]
  },
  {
   "cell_type": "code",
   "execution_count": null,
   "metadata": {},
   "outputs": [],
   "source": [
    "# the compartment syntax \"@X:\" is set \n",
    "# at the level of the species object\n",
    "spec.compartment = \"PM\"\n",
    "\n",
    "# you can loop over the molecules in a species pattern and modify them\n",
    "for molec in spec.molecules:\n",
    "    print(molec)\n",
    "    molec.add_component(\"test_2\", state=\"c\")\n",
    "    molec.compartment = \"EC\"\n",
    "print(model.species)"
   ]
  },
  {
   "cell_type": "code",
   "execution_count": null,
   "metadata": {},
   "outputs": [],
   "source": [
    "# just to show an example on multiple molecules\n",
    "# in a species object \n",
    "print(spec.molecules)\n",
    "molec = spec.molecules[0]\n",
    "spec.molecules.append(molec)\n",
    "print(spec)"
   ]
  },
  {
   "cell_type": "code",
   "execution_count": null,
   "metadata": {},
   "outputs": [],
   "source": [
    "# furthermore you can loop over the molecule itself \n",
    "# which allows you to loop over the components\n",
    "spec = model.species[2]\n",
    "print(spec)\n",
    "molec = spec[0]\n",
    "print(molec)\n",
    "for component in molec:\n",
    "    print(component)\n",
    "# similarly you can index the molecule to get the component directly\n",
    "print(molec[0])"
   ]
  },
  {
   "cell_type": "markdown",
   "metadata": {},
   "source": [
    "### Observables"
   ]
  },
  {
   "cell_type": "code",
   "execution_count": null,
   "metadata": {},
   "outputs": [],
   "source": [
    "print(\"########\")\n",
    "for iobs,obs in enumerate(model.observables):\n",
    "    print(\"obs, item pair\")\n",
    "    print(obs, model.observables[obs])\n",
    "    # for ease of use, an integer index will return \n",
    "    # the list of patterns of the observable\n",
    "    print(\"list of patterns\")\n",
    "    print(model.observables[iobs])\n",
    "    print(\"########\")"
   ]
  },
  {
   "cell_type": "code",
   "execution_count": null,
   "metadata": {},
   "outputs": [],
   "source": [
    "obs_pats = model.observables[1]\n",
    "for pat in obs_pats:\n",
    "    print(\"pattern\")\n",
    "    print(pat)\n",
    "    # each pattern will have a list of molecules\n",
    "    for molec in pat:\n",
    "        print(\"molecule\")\n",
    "        print(molec)"
   ]
  },
  {
   "cell_type": "markdown",
   "metadata": {},
   "source": [
    "### Functions"
   ]
  },
  {
   "cell_type": "code",
   "execution_count": null,
   "metadata": {},
   "outputs": [],
   "source": [
    "for func in model.functions:\n",
    "    print(func, model.functions[func])"
   ]
  },
  {
   "cell_type": "code",
   "execution_count": null,
   "metadata": {},
   "outputs": [],
   "source": [
    "# can be overwritten\n",
    "model.functions[func] = \"(k_transcribe*(TF_nuc^n_P))/((KM_TF_dna_trans^n_P)+(TF_nuc^n_P))+100\"\n",
    "print(model.functions)"
   ]
  },
  {
   "cell_type": "markdown",
   "metadata": {},
   "source": [
    "### Rules"
   ]
  },
  {
   "cell_type": "code",
   "execution_count": null,
   "metadata": {},
   "outputs": [],
   "source": [
    "for rule in model.rules:\n",
    "    print(rule)"
   ]
  },
  {
   "cell_type": "code",
   "execution_count": null,
   "metadata": {},
   "outputs": [],
   "source": [
    "# rules are tuples of \n",
    "# (list of reactant patterns, list of product patterns, list of rate laws)\n",
    "# you can access them in a couple ways\n",
    "print(rule.reactants)\n",
    "print(rule.products)\n",
    "print(rule.rate_constants)\n",
    "print(rule.rule_tpl)\n",
    "# bidirectional rules need to have it correctly set\n",
    "print(rule.bidirectional)"
   ]
  },
  {
   "cell_type": "markdown",
   "metadata": {},
   "source": [
    "### Actions"
   ]
  },
  {
   "cell_type": "code",
   "execution_count": null,
   "metadata": {},
   "outputs": [],
   "source": [
    "# actions can be added with add_action method\n",
    "# takes in the action name and a list of tuples (argument name, argument value)\n",
    "model.add_action(\"generate_network\", [(\"overwrite\",1)])\n",
    "model.add_action(\"simulate\", [(\"method\",\"ode\"),(\"t_start\",0),(\"t_end\",100),(\"n_steps\",100)])\n",
    "print(model.actions)"
   ]
  },
  {
   "cell_type": "code",
   "execution_count": null,
   "metadata": {},
   "outputs": [],
   "source": [
    "# you can also clear the actions \n",
    "model.actions.clear_actions()"
   ]
  },
  {
   "cell_type": "code",
   "execution_count": null,
   "metadata": {},
   "outputs": [],
   "source": [
    "# You can write the current model to a file via\n",
    "with open(\"modified.bngl\", \"w\") as f:\n",
    "    f.write(str(model))\n",
    "# or you can use the convenience function\n",
    "model.write_model(\"modified_2.bngl\")\n",
    "l = os.listdir(os.getcwd())\n",
    "print(list(filter(lambda x: x.endswith(\".bngl\"), l)))"
   ]
  }
 ],
 "metadata": {
  "kernelspec": {
   "display_name": "Python 3",
   "language": "python",
   "name": "python3"
  },
  "language_info": {
   "codemirror_mode": {
    "name": "ipython",
    "version": 3
   },
   "file_extension": ".py",
   "mimetype": "text/x-python",
   "name": "python",
   "nbconvert_exporter": "python",
   "pygments_lexer": "ipython3",
   "version": "3.7.6"
  }
 },
 "nbformat": 4,
 "nbformat_minor": 2
}
